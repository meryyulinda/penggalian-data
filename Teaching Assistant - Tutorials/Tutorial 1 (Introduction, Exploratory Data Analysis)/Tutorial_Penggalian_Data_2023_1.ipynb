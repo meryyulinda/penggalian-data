{
  "nbformat": 4,
  "nbformat_minor": 0,
  "metadata": {
    "colab": {
      "provenance": [],
      "collapsed_sections": [
        "IUa2Zy9uHuLa",
        "aKXSTY2pyhk3",
        "Qnx3ym9TynCH",
        "6BlS2agkWVa_",
        "Zyh_A-0__A_S"
      ]
    },
    "kernelspec": {
      "name": "python3",
      "display_name": "Python 3"
    },
    "language_info": {
      "name": "python"
    }
  },
  "cells": [
    {
      "cell_type": "markdown",
      "metadata": {
        "id": "ymv6gD2Bfh0C"
      },
      "source": [
        "# Tutorial 1\n",
        "- Pengenalan Python\n",
        "- Eksplorasi Data \n",
        "- Praproses Data "
      ]
    },
    {
      "cell_type": "markdown",
      "metadata": {
        "id": "xJWOER83jO0l"
      },
      "source": [
        "## **Pengenalan Python**\n",
        "Python merupakan bahasa pemrogramman tingkat tinggi yang mudah digunakan. Kemudahan ini membuat python menjadi bahasa pemrogramman yang sangat populer saat ini. Python banyak diterapkan dalam pembuatan web, aplikasi dan keperluan lainnya. Hal yang paling sering menjadi alasan untuk menggunakan Python ini adalah kemudahannya digunakan dalam dunia Data Science."
      ]
    },
    {
      "cell_type": "markdown",
      "metadata": {
        "id": "BJ3jPR4RqAJG"
      },
      "source": [
        "### Mengenal Library Python\n",
        "* NumPy \n",
        "\n",
        "Library Numpy merupakan Library yang sering digunakan dalam mengolah data array dan pengolahannya secara matematis. Di Python sendiri tidak mendukung pengolahan array, namun ada tipe data list namun penggunaannya tidak sefleksibel dan semudah array dari Numpy \n",
        "* Pandas\n",
        "\n",
        "Pandas merupakan library yang digunakan dalam pengolahan DataFrame. DataFrame umumnya seperti tabel yang berisi kolom dan baris. Sehingga Pandas ini cocok digunakan dalam menganalisa data yang berupa tabel. Pandas juga sering digunakan dalam melakukan praproses data seperti penanganan data hilang, pembanding data, menggabungkan data, merubah bentuk data dsb.\n",
        "* Matplotlib & Seaborn\n",
        "\n",
        "Library ini digunakan untuk melakukan visualisasi data. Visualisasi ini bisa berupa histogram, scatter plot dan sebagainya sesuai kebutuhan. Perbedaan Matplotlib dan Seaborn adalah di mana Seaborn dibangun di atas Matplotlib.\n",
        "\n",
        "* Scikit-Learn (sklearn)\n",
        "\n",
        "Library ini digunakan untuk melakukan proses Machine Learning pada Python. Fungsi-fungsi di dalamnya cukup lengkap baik untuk Klasifikasi, Klasterisasi dan Regresi. Seaborn juga memiliki sejumlah dataset sederhana yang bisa digunakan pada library-nya\n",
        "\n",
        "* Keras, TensorFlow, PyTorch\n",
        "\n",
        "Library-library ini berfokus pada Deep Learning (subset dari Machine Learning). Ketiganya biasa digunakan dalam menerapkan metode Neural Network.\n",
        "\n"
      ]
    },
    {
      "cell_type": "markdown",
      "metadata": {
        "id": "2snaUKI6LCdu"
      },
      "source": [
        "### Ngoding Python dimana?\n",
        "*   Online\n",
        "\n",
        "Google Colaboratory, Kaggle\n",
        "\n",
        "*   Offline\n",
        "\n",
        "Spyder, PyCharm, Jupyter Notebook"
      ]
    },
    {
      "cell_type": "markdown",
      "source": [
        "---\n",
        "\n",
        "**some useful shortcuts in Google Colab:**\n",
        "\n",
        "* Ctrl + / for block-comments line(s) of code\n",
        "* Ctrl + \\[ or Ctrl + \\] for changing the indentation\n",
        "* Ctrl + S for saving your file"
      ],
      "metadata": {
        "id": "lZ8pO4xWGe0_"
      }
    },
    {
      "cell_type": "markdown",
      "metadata": {
        "id": "a0-EdW-2_Xaf"
      },
      "source": [
        "### Tipe-tipe Data di Python\n",
        "\n",
        "*   String\n",
        "*   Integer\n",
        "*   Float (decimal)\n",
        "*   Complex (imaginary number)\n",
        "*   Boolean\n",
        "*   NoneType\n"
      ]
    },
    {
      "cell_type": "code",
      "metadata": {
        "id": "v0MLLQ1Q_cyP"
      },
      "source": [
        "# None\n",
        "a = None\n",
        "print(a)"
      ],
      "execution_count": null,
      "outputs": []
    },
    {
      "cell_type": "code",
      "metadata": {
        "id": "l99XJsS1BqII"
      },
      "source": [
        "# Numeric\n",
        "i = 1 #integer \n",
        "f = 1.0 #float\n",
        "c = 2+1j #complex\n",
        "\n",
        "print('i:', i, type(i))\n",
        "print('f:', f, type(f))\n",
        "print('c:', c, type(c))"
      ],
      "execution_count": null,
      "outputs": []
    },
    {
      "cell_type": "code",
      "metadata": {
        "id": "K_5Yw_kaByRN"
      },
      "source": [
        "# Ubah tipe data\n",
        "u = 7.7\n",
        "\n",
        "a1 = float(u) #ubah tipe data menjadi float\n",
        "b1 = int(u) #ubah tipe data menjadi int (jika float diubah ke int maka dibulatkan ke bawah)\n",
        "c1 = complex(u) #ubah tipe data menjadi complex\n",
        "\n",
        "print(a1)\n",
        "print(b1)\n",
        "print(c1)"
      ],
      "execution_count": null,
      "outputs": []
    },
    {
      "cell_type": "code",
      "metadata": {
        "id": "8eybDq9eCcuL"
      },
      "source": [
        "# Boolean\n",
        "t = True\n",
        "f = False\n",
        "t_int = int(t)\n",
        "f_int = int(f)\n",
        "\n",
        "print('t:',t, type(t))\n",
        "print('f:',f, type(f))\n",
        "print('True =', t_int)\n",
        "print('False =', f_int)\n",
        "print('t and f:', (t & f))\n",
        "print('t or f:', (t | f))\n",
        "print()\n",
        "\n",
        "#operasi komparasi\n",
        "k1 = (1 < 2)\n",
        "k2 = (2 > 1)\n",
        "k3 = (2 <= 3)\n",
        "k4 = (4 >= 3)\n",
        "k5 = (2 == 2)\n",
        "k6 = (3 != 4)\n",
        "k7 = (4 > 5) and (6 > 7) #and\n",
        "k8 = (4 > 5) or (6 > 7) #or\n",
        "k9 = not True #not, hasilnya false\n",
        "\n",
        "print('(1 < 2) =', k1, type(k1))\n",
        "print('(2 > 1) =', k2)\n",
        "print('(2 <= 3) =', k3)\n",
        "print('(4 >= 3) =', k4)\n",
        "print('(2 == 2) =', k5)\n",
        "print('(3 != 4) =', k6)\n",
        "print('(4 > 5) and (6 > 7) =', k7)\n",
        "print('(4 > 5) or (6 > 7) =', k8)\n",
        "print('not True =', k9)"
      ],
      "execution_count": null,
      "outputs": []
    },
    {
      "cell_type": "code",
      "metadata": {
        "id": "WwB24ZqQCwfu"
      },
      "source": [
        "# String\n",
        "s = \"hello\"\n",
        "t = 'world'\n",
        "u = \"what's up\"\n",
        "\n",
        "print(u)\n",
        "print(s+' '+t)"
      ],
      "execution_count": null,
      "outputs": []
    },
    {
      "cell_type": "code",
      "metadata": {
        "id": "qPVRTG1AJUhl"
      },
      "source": [
        "w1 = \"hi {} !\".format(t)\n",
        "w2 = f\"Hi {t} !\"\n",
        "w3 = \"Hi %s !\" % t # 's' in '%s' stands for 'string data type'\n",
        "w4 = \"Decimal number: {:.2f}\".format(2.50000) # :.2f means we only want the number with 2 decimals\n",
        "\n",
        "print(w1)\n",
        "print(w2)\n",
        "print(w3)\n",
        "print(w4)"
      ],
      "execution_count": null,
      "outputs": []
    },
    {
      "cell_type": "code",
      "metadata": {
        "id": "SHZdgmLkDC0T"
      },
      "source": [
        "# Ubah tipe data\n",
        "\n",
        "nilai = \"1.0\"\n",
        "print(nilai, type(nilai))\n",
        "# print(int(nilai)) # will result in error\n",
        "# print(int(float(nilai))) #kalau string berupa desimal maka harus diubah dulu menjadi float baru kemudian diubah ke integer\n",
        "\n",
        "a = 1\n",
        "a = str(a)\n",
        "print(a, type(a))"
      ],
      "execution_count": null,
      "outputs": []
    },
    {
      "cell_type": "markdown",
      "source": [
        "## **Import Libraries**"
      ],
      "metadata": {
        "id": "IUa2Zy9uHuLa"
      }
    },
    {
      "cell_type": "code",
      "metadata": {
        "id": "3BVqF3a6bvqM"
      },
      "source": [
        "# Import Library Python\n",
        "import numpy as np\n",
        "import pandas as pd\n",
        "import matplotlib.pyplot as plt\n",
        "import seaborn as sns"
      ],
      "execution_count": null,
      "outputs": []
    },
    {
      "cell_type": "code",
      "source": [
        "pd.set_option('display.max_columns',None) # to see ALL COLUMNS in a DataFrame table. 'None' means there is no limit for displayed columns.\n",
        "# pd.set_option('display.max_rows',None) # to see ALL ROWS in a DataFrame table."
      ],
      "metadata": {
        "id": "f6t3EODDI-j5"
      },
      "execution_count": null,
      "outputs": []
    },
    {
      "cell_type": "markdown",
      "metadata": {
        "id": "nFYqIawcFset"
      },
      "source": [
        "## **Import dataset**"
      ]
    },
    {
      "cell_type": "markdown",
      "metadata": {
        "id": "aKXSTY2pyhk3"
      },
      "source": [
        "#### Import via upload file (in Google Colab)"
      ]
    },
    {
      "cell_type": "code",
      "metadata": {
        "id": "815uE_LcuBd0"
      },
      "source": [
        "# Upload dataset berupa csv\n",
        "# from google.colab import files\n",
        "# uploaded = files.upload() # or you could just click on the \"Upload Files\" button"
      ],
      "execution_count": null,
      "outputs": []
    },
    {
      "cell_type": "code",
      "source": [
        "# set variabel dataset\n",
        "# import io\n",
        "# iris = pd.read_csv(io.BytesIO(uploaded['iris_dataset.csv'])) # this method takes longer time\n",
        "iris = pd.read_csv('iris_dataset.csv')\n",
        "iris"
      ],
      "metadata": {
        "id": "6-jE5n8CBsAv"
      },
      "execution_count": null,
      "outputs": []
    },
    {
      "cell_type": "code",
      "source": [
        "# memberikan header pada dataset (kalau dataset belum memiliki header)\n",
        "\n",
        "\n",
        "# rename columns at the same time 'when' importing dataset\n",
        "colnames = ['sepal-length', 'sepal-width', 'petal-length', 'petal-width', 'class']\n",
        "data_iris = pd.read_csv('iris_dataset.csv', names = colnames)\n",
        "\n",
        "\n",
        "# rename columns 'after' importing dataset\n",
        "data_iris = pd.read_csv('iris_dataset.csv')\n",
        "data_iris.columns = ['sepal-length', 'sepal-width', 'petal-length', 'petal-width', 'class']\n",
        "\n",
        "\n",
        "# rename SPECIFIC COLUMN(S) only\n",
        "data_iris.rename(columns={'sepal-length':'sepal-length', 'sepal-width':'sepal-width'}, inplace=True) # \"inplace=True\" means:\n",
        "                                                                                                     # you don't need to assign it to a variable\n",
        "                                                                                                     # it directly changes its DataFrame\n",
        "# data_iris = data_iris.rename(columns={'sepal-length':'sepal-length', 'sepal-width':'sepal-width'})\n",
        "\n",
        "data_iris"
      ],
      "metadata": {
        "id": "BwZG7Bl7CDrs"
      },
      "execution_count": null,
      "outputs": []
    },
    {
      "cell_type": "markdown",
      "metadata": {
        "id": "t2Ci9SXbyqvP"
      },
      "source": [
        "#### Import dengan menghubungkan/mount ke Google Drive (in Google Colab)\n",
        "\n",
        "(click on **Mount Drive** button and <u>Accept</u> Google Colab permission to access your GDrive)"
      ]
    },
    {
      "cell_type": "code",
      "source": [
        "from google.colab import drive\n",
        "drive.mount('/content/drive')"
      ],
      "metadata": {
        "id": "iK2IfdeRKFXA"
      },
      "execution_count": null,
      "outputs": []
    },
    {
      "cell_type": "code",
      "metadata": {
        "id": "9RRhGGxBF-nT"
      },
      "source": [
        "path = \"/content/drive/MyDrive/Penggalian Data [Tutorial]/\" # > COPY PATH from your project FOLDER on GDrive & add '/' in the end \n",
        "                                                                      # > save this PATH Variable, in case we need to import another file from this Folder\n",
        "\n",
        "iris = pd.read_csv(path + \"Iris.csv\")\n",
        "iris"
      ],
      "execution_count": null,
      "outputs": []
    },
    {
      "cell_type": "code",
      "source": [
        "# drop column 'id'\n",
        "data_iris = iris.drop(columns= \"Id\")\n",
        "\n",
        "# rename column name\n",
        "data_iris.columns = ['sepal_length', 'sepal_width', 'petal_length', 'petal_width', 'species']\n",
        "data_iris"
      ],
      "metadata": {
        "id": "uaSJIhUu6gBI"
      },
      "execution_count": null,
      "outputs": []
    },
    {
      "cell_type": "markdown",
      "metadata": {
        "id": "Qnx3ym9TynCH"
      },
      "source": [
        "#### Import pre-loaded dataset via library"
      ]
    },
    {
      "cell_type": "code",
      "metadata": {
        "id": "qXuwrl8l37ps"
      },
      "source": [
        "# dataset yang memang dimiliki library Seaborn (pre-loaded dataset)\n",
        "data_iris = sns.load_dataset(\"iris\")\n",
        "titanic = sns.load_dataset(\"titanic\")"
      ],
      "execution_count": null,
      "outputs": []
    },
    {
      "cell_type": "code",
      "metadata": {
        "id": "KSaKTsvyG6lI"
      },
      "source": [
        "data_iris"
      ],
      "execution_count": null,
      "outputs": []
    },
    {
      "cell_type": "code",
      "source": [
        "titanic"
      ],
      "metadata": {
        "id": "4qaQn2r-I2qQ"
      },
      "execution_count": null,
      "outputs": []
    },
    {
      "cell_type": "markdown",
      "source": [
        "#### Import data apabila Menggunakan Jupyter Notebook"
      ],
      "metadata": {
        "id": "6BlS2agkWVa_"
      }
    },
    {
      "cell_type": "code",
      "source": [
        "iris = pd.read_csv(\"Iris.csv\")\n",
        "iris"
      ],
      "metadata": {
        "id": "jDhuHzJbWUrZ"
      },
      "execution_count": null,
      "outputs": []
    },
    {
      "cell_type": "code",
      "source": [
        "# drop column 'id'\n",
        "data_iris = iris.drop(columns= \"Id\")\n",
        "\n",
        "# rename column name\n",
        "data_iris.columns = ['sepal_length', 'sepal_width', 'petal_length', 'petal_width', 'species']\n",
        "data_iris"
      ],
      "metadata": {
        "id": "bG1IKI_AWx_q"
      },
      "execution_count": null,
      "outputs": []
    },
    {
      "cell_type": "markdown",
      "metadata": {
        "id": "9ILwjHIU5rdj"
      },
      "source": [
        "## **Eksplorasi Data**\n"
      ]
    },
    {
      "cell_type": "markdown",
      "metadata": {
        "id": "TDfSbde58h53"
      },
      "source": [
        "### Summary Statistics"
      ]
    },
    {
      "cell_type": "markdown",
      "metadata": {
        "id": "36tDj6hfHEoI"
      },
      "source": [
        "\n",
        "> Melihat seluruh isi dataset\n",
        "\n"
      ]
    },
    {
      "cell_type": "code",
      "metadata": {
        "id": "vUeo6rgfHNUW"
      },
      "source": [
        "# untuk melihat isi dataset\n",
        "data_iris"
      ],
      "execution_count": null,
      "outputs": []
    },
    {
      "cell_type": "markdown",
      "metadata": {
        "id": "agZRJdD2Hpm-"
      },
      "source": [
        "\n",
        "\n",
        "> Melihat sebagian isi dataset\n",
        "\n"
      ]
    },
    {
      "cell_type": "code",
      "metadata": {
        "id": "HkKQDHOUHLMO"
      },
      "source": [
        "data_iris.head() # default: FIRST 5 ROWS in DataFrame\n",
        "# data_iris.head(10) # see FIRST 10 ROWS"
      ],
      "execution_count": null,
      "outputs": []
    },
    {
      "cell_type": "code",
      "metadata": {
        "id": "9BG3u2kbHYO1"
      },
      "source": [
        "data_iris.tail() # default: LAST 5 ROWS in DataFrame\n",
        "# data_iris.tail(10) # see LAST 10 ROWS"
      ],
      "execution_count": null,
      "outputs": []
    },
    {
      "cell_type": "markdown",
      "source": [
        "> Melihat tipe data dan Non-Null count dari masing-masing kolom"
      ],
      "metadata": {
        "id": "FCd0vaTINtkL"
      }
    },
    {
      "cell_type": "code",
      "source": [
        "data_iris.info()"
      ],
      "metadata": {
        "id": "Vly1vnQ6s0Vj"
      },
      "execution_count": null,
      "outputs": []
    },
    {
      "cell_type": "markdown",
      "metadata": {
        "id": "--cZTmQkHyEM"
      },
      "source": [
        "\n",
        "\n",
        "> Analisa statistik\n",
        "\n"
      ]
    },
    {
      "cell_type": "code",
      "metadata": {
        "id": "4wd-tMvy7bmZ"
      },
      "source": [
        "# menampilkan mean, standar deviasi, min, kuartil (25%, 50%, 75%) dan max (pandas)\n",
        "data_iris.describe()\n",
        "# data_iris.describe(include='all') # statistical description of ALL COLUMNS, both NUMERIC/STRING datatype"
      ],
      "execution_count": null,
      "outputs": []
    },
    {
      "cell_type": "code",
      "source": [
        "# menampilkan nilai unik (distinct values) di suatu kolom, biasanya digunakan untuk melihat nilai kategorikal\n",
        "data_iris['species'].unique()"
      ],
      "metadata": {
        "id": "8Rf_xSO1UfZJ"
      },
      "execution_count": null,
      "outputs": []
    },
    {
      "cell_type": "code",
      "source": [
        "# menampilkan Counts dari tiap nilai unik di suatu kolom\n",
        "data_iris['species'].value_counts()"
      ],
      "metadata": {
        "id": "8SzClGaGsYf2"
      },
      "execution_count": null,
      "outputs": []
    },
    {
      "cell_type": "code",
      "metadata": {
        "id": "RPxVkmb_H3m7"
      },
      "source": [
        "# menampilkan rata-rata tiap kolom\n",
        "data_iris.mean()"
      ],
      "execution_count": null,
      "outputs": []
    },
    {
      "cell_type": "code",
      "metadata": {
        "id": "egI6J2zO6LBK"
      },
      "source": [
        "# menampilkan rata-rata suatu kolom\n",
        "data_iris['sepal_length'].mean()"
      ],
      "execution_count": null,
      "outputs": []
    },
    {
      "cell_type": "code",
      "metadata": {
        "id": "iqUgl20yH-3X"
      },
      "source": [
        "# menampilkan nilai modus\n",
        "data_iris.mode()"
      ],
      "execution_count": null,
      "outputs": []
    },
    {
      "cell_type": "code",
      "metadata": {
        "id": "mZFz-wh7IDXS"
      },
      "source": [
        "data_iris.min()"
      ],
      "execution_count": null,
      "outputs": []
    },
    {
      "cell_type": "code",
      "metadata": {
        "id": "0mr0C04u7OVz"
      },
      "source": [
        "#menampilkan max\n",
        "data_iris.max()"
      ],
      "execution_count": null,
      "outputs": []
    },
    {
      "cell_type": "code",
      "source": [
        "#menampilkan percentile (numpy)\n",
        "data_iris.quantile(0.25) #percentile ke-25"
      ],
      "metadata": {
        "id": "tKZrgititSZO"
      },
      "execution_count": null,
      "outputs": []
    },
    {
      "cell_type": "code",
      "metadata": {
        "id": "2xgjEpYO7Qmx"
      },
      "source": [
        "#menampilkan percentile (numpy)\n",
        "data_iris.quantile(0.5) #median atau percentile ke-50"
      ],
      "execution_count": null,
      "outputs": []
    },
    {
      "cell_type": "code",
      "metadata": {
        "id": "tIxLIoaQ7SxZ"
      },
      "source": [
        "#menampilkan median\n",
        "data_iris.median()"
      ],
      "execution_count": null,
      "outputs": []
    },
    {
      "cell_type": "code",
      "metadata": {
        "id": "yfU31pHi7UlJ"
      },
      "source": [
        "#menampilkan standar deviasi (numpy)\n",
        "data_iris.std()"
      ],
      "execution_count": null,
      "outputs": []
    },
    {
      "cell_type": "code",
      "metadata": {
        "id": "fo2bq7XC7WMO"
      },
      "source": [
        "#menampilkan range\n",
        "min = data_iris[\"petal_length\"].min()\n",
        "max = data_iris[\"petal_length\"].max()\n",
        "range = max - min\n",
        "print(\"range :\", range)"
      ],
      "execution_count": null,
      "outputs": []
    },
    {
      "cell_type": "markdown",
      "metadata": {
        "id": "pbuazTiu8HVx"
      },
      "source": [
        "### Visualisasi\n",
        "\n",
        "Visualisasi data ditujukan untuk mengetahui, antara lain:\n",
        "* **distribusi/sebaran data** (e.g. skewness, outlier)\n",
        "* **korelasi antar kolom** (*good* when there is a *strong corr. between features & target*; while <u>strong corr. *between 2 features* means that those are redundant features, hence just choose one from it</u>)\n",
        "* **class separability** yaitu seberapa jauh jarak data antarkelas. semakin jauh jarak antarkelas, maka semakin mudah dibedakan sehingga kemungkinan model ML akan semakin mudah untuk mengklasifikasikannya  \\[khusus pada problem klasifikasi]"
      ]
    },
    {
      "cell_type": "markdown",
      "metadata": {
        "id": "6_Dc8nGByvkn"
      },
      "source": [
        "#### Analisa Univariat"
      ]
    },
    {
      "cell_type": "code",
      "metadata": {
        "id": "qym0VMJR8lmJ"
      },
      "source": [
        "# menampilkan histogram\n",
        "data_iris.hist()\n",
        "plt.show()"
      ],
      "execution_count": null,
      "outputs": []
    },
    {
      "cell_type": "code",
      "metadata": {
        "id": "jtNwU_-pUIBp"
      },
      "source": [
        "titanic['survived'].hist()"
      ],
      "execution_count": null,
      "outputs": []
    },
    {
      "cell_type": "code",
      "metadata": {
        "id": "rjp7zYSY85fq"
      },
      "source": [
        "# menampilkan histogram custom\n",
        "plt.figure(figsize = (10, 10))\n",
        "x = data_iris[\"sepal_width\"]\n",
        "plt.hist(x, color = \"red\")\n",
        "plt.title(\"Sepal Width\")\n",
        "plt.xlabel(\"Sepal Width (cm)\")\n",
        "plt.ylabel(\"Count\")"
      ],
      "execution_count": null,
      "outputs": []
    },
    {
      "cell_type": "code",
      "metadata": {
        "id": "yVRZzQei89r4"
      },
      "source": [
        "# Box Plot\n",
        "data_iris['sepal_width'].plot(kind = \"box\")\n",
        "plt.show()"
      ],
      "execution_count": null,
      "outputs": []
    },
    {
      "cell_type": "code",
      "metadata": {
        "id": "cqzryryx9Ad2"
      },
      "source": [
        "# Scatter Plot\n",
        "plt.scatter(data_iris.index, data_iris[\"sepal_length\"])\n",
        "plt.show()"
      ],
      "execution_count": null,
      "outputs": []
    },
    {
      "cell_type": "code",
      "metadata": {
        "id": "bqyK7dAjcxIi"
      },
      "source": [
        "# Scatter Plot\n",
        "sns.scatterplot(data_iris.index, data_iris[\"sepal_length\"], hue = data_iris[\"species\"])\n",
        "plt.show()"
      ],
      "execution_count": null,
      "outputs": []
    },
    {
      "cell_type": "code",
      "metadata": {
        "id": "VLbnSv0krt2e"
      },
      "source": [
        "# Pie Chart\n",
        "data_iris['species'].value_counts().plot.pie(autopct='%.2f%%',shadow=True,figsize=(10,8))\n",
        "plt.show()"
      ],
      "execution_count": null,
      "outputs": []
    },
    {
      "cell_type": "markdown",
      "metadata": {
        "id": "Q0gh0XIcyzqD"
      },
      "source": [
        "####Analisa Bivariat"
      ]
    },
    {
      "cell_type": "code",
      "metadata": {
        "id": "Gb1qeRJP9Fwe"
      },
      "source": [
        "# Plot Array\n",
        "from pandas.plotting import scatter_matrix\n",
        "scatter_matrix(data_iris, figsize = (15,15))\n",
        "plt.show()"
      ],
      "execution_count": null,
      "outputs": []
    },
    {
      "cell_type": "code",
      "metadata": {
        "id": "j9dAv6jG9IN1"
      },
      "source": [
        "sns.pairplot(data = data_iris, hue = 'species')"
      ],
      "execution_count": null,
      "outputs": []
    },
    {
      "cell_type": "code",
      "metadata": {
        "id": "U7-MHfQQdd69"
      },
      "source": [
        "# Memberikan warna pada masing-masing class\n",
        "setosa = data_iris[data_iris['species'] == 'Iris-setosa']\n",
        "versicolor = data_iris[data_iris['species'] == 'Iris-versicolor']\n",
        "virginica = data_iris[data_iris['species'] == 'Iris-virginica']\n",
        "\n",
        "plt.scatter(data=setosa, x='sepal_length', y='sepal_width', c='r')\n",
        "plt.scatter(versicolor['sepal_length'], versicolor['sepal_width'], c = 'g')\n",
        "plt.scatter(virginica['sepal_length'], virginica['sepal_width'], c = 'b')\n",
        "plt.show()"
      ],
      "execution_count": null,
      "outputs": []
    },
    {
      "cell_type": "code",
      "metadata": {
        "id": "yhqu5EAy9LsN"
      },
      "source": [
        "# Heatmap\n",
        "plt.figure(figsize=(7,4))\n",
        "sns.heatmap(data_iris.corr(),annot=True)"
      ],
      "execution_count": null,
      "outputs": []
    },
    {
      "cell_type": "markdown",
      "metadata": {
        "id": "lkOBmlR4wB69"
      },
      "source": [
        "## **Praproses Data**\n"
      ]
    },
    {
      "cell_type": "code",
      "metadata": {
        "id": "_rSNhqtL5GrT"
      },
      "source": [
        "# Membuat data frame\n",
        "nama = [\"Aida\", \"Beta\", \"Charlie\", \"Doni\", \"Eka\", \"Firda\", \"Gina\", \"Hera\", \"Indra\", \"Janet\", \"Eka\"]\n",
        "nilai = [75, 66, 80, 33, 80, 99, 67, 56, 89, 75, 80]\n",
        "kelas = [np.nan, np.nan, np.nan, np.nan, 'B', 'A', np.nan, np.nan, 'C', np.nan, 'B']\n",
        "jurusan = ['IPA', 'IPA', 'IPS', 'IPA', 'IPS', np.nan, 'IPA', 'IPA', 'IPA', 'IPA', 'IPS']\n",
        "ekonomi = [\"Mampu\", \"Kurang Mampu\", \"Kurang Mampu\", \"Kurang Mampu\", \"Mampu\", \"Kurang Mampu\", \"Mampu\", \"Mampu\", \"Mampu\", \"Kurang Mampu\", \"Mampu\"]\n",
        "beasiswa = [\"Tidak\", \"Ya\", \"Ya\", \"Tidak\", \"Tidak\", \"Ya\", \"Tidak\", \"Ya\", \"Tidak\", \"Ya\", \"Tidak\"]\n",
        "\n",
        "data_kelas = pd.DataFrame(data = {'nama':nama,\n",
        "                          'nilai':nilai,\n",
        "                          'kelas':kelas,\n",
        "                          'jurusan':jurusan,\n",
        "                          'ekonomi':ekonomi,\n",
        "                          'beasiswa':beasiswa \n",
        "                          })\n",
        "data_kelas"
      ],
      "execution_count": null,
      "outputs": []
    },
    {
      "cell_type": "code",
      "metadata": {
        "id": "7IliaqbsIpu0"
      },
      "source": [
        "# Menampilkan tipe data masing-masing kolom\n",
        "data_kelas.info()"
      ],
      "execution_count": null,
      "outputs": []
    },
    {
      "cell_type": "code",
      "metadata": {
        "id": "73hkXrvo_EtW"
      },
      "source": [
        "# Mencari kategori apa saja pada sebuah kolom\n",
        "data_kelas['ekonomi'].unique()"
      ],
      "execution_count": null,
      "outputs": []
    },
    {
      "cell_type": "markdown",
      "metadata": {
        "id": "oTl0y5Xg-qRw"
      },
      "source": [
        "### Pemeriksaan Missing Value"
      ]
    },
    {
      "cell_type": "code",
      "metadata": {
        "id": "VNc-WFcI1g6k"
      },
      "source": [
        "# Cek apakah terdapat baris yang kosong\n",
        "data_kelas.isnull().sum()"
      ],
      "execution_count": null,
      "outputs": []
    },
    {
      "cell_type": "code",
      "metadata": {
        "id": "U27xQOL51rWS"
      },
      "source": [
        "# Cek apakah terdapat baris yang sama / duplikasi\n",
        "data_kelas.duplicated().sum()"
      ],
      "execution_count": null,
      "outputs": []
    },
    {
      "cell_type": "code",
      "metadata": {
        "id": "q4qHmR9Y-EmZ"
      },
      "source": [
        "# Cek apakah terdapat baris yang sama / duplikasi\n",
        "data_kelas[data_kelas.isnull().any(axis=1)]"
      ],
      "execution_count": null,
      "outputs": []
    },
    {
      "cell_type": "code",
      "metadata": {
        "id": "v4hmEcy2B-4O"
      },
      "source": [
        "# menduplikasi data_kelas menjadi variabel baru dengan tujuan tidak \"rusak\" variabel data_kelas\n",
        "dt_k = data_kelas.copy()\n",
        "dt_k"
      ],
      "execution_count": null,
      "outputs": []
    },
    {
      "cell_type": "markdown",
      "metadata": {
        "id": "VDB_FGsH-6Xh"
      },
      "source": [
        "#### Mengatasi Missing Value"
      ]
    },
    {
      "cell_type": "code",
      "metadata": {
        "id": "HJobbqbWDdTr"
      },
      "source": [
        "# Untuk mengatasi nilai kosong, ada beberapa solusi\n",
        "\n",
        "# 1. Hapus kolom yang memiliki banyak nilai kosong\n",
        "dt_k = dt_k.drop(columns = 'kelas')\n",
        "dt_k"
      ],
      "execution_count": null,
      "outputs": []
    },
    {
      "cell_type": "code",
      "metadata": {
        "id": "egoNd6j8FWqc"
      },
      "source": [
        "# 2. Memberikan nilai pada kolom yang memiliki nilai kosong dengan nilai yang paling sering muncul\n",
        "jurusan_max = dt_k['jurusan'].value_counts().idxmax()\n",
        "print(\"Jurusan Terbanyak: {}\\n\".format(jurusan_max))\n",
        "# memberikan nilai pada baris kosong\n",
        "dt_k['jurusan'] = dt_k['jurusan'].fillna(jurusan_max)\n",
        "dt_k"
      ],
      "execution_count": null,
      "outputs": []
    },
    {
      "cell_type": "markdown",
      "source": [
        "In missing-data imputation, the <u>*tradeoff*</u> between **dropping sparse columns** and **filling missing values**:\n",
        "\n",
        "* *dropping sparse column* (column with lots of missing values): in some cases, it could be that this column may still hold essential information\n",
        "\n",
        "* *filling missing values* with mode/mean/median: may not really represent the actual data"
      ],
      "metadata": {
        "id": "VwWQcpSQbabR"
      }
    },
    {
      "cell_type": "markdown",
      "metadata": {
        "id": "Zyh_A-0__A_S"
      },
      "source": [
        "### Pemeriksaan Data Duplikat\n",
        "\n",
        "Duplicates **can add the weights of samples and can cause bias**, hence it's recommended to remove duplicated rows.\n",
        "\n",
        "( https://www.quora.com/Should-I-remove-duplicates-from-a-data-set-in-machine-learning )"
      ]
    },
    {
      "cell_type": "code",
      "metadata": {
        "id": "YQBV4Rd0BbTu"
      },
      "source": [
        "jumlah_baris_duplikat = dt_k.duplicated().sum()\n",
        "print(\"Jumlah baris yang memiliki data sama: {} baris\\n\".format(jumlah_baris_duplikat))\n",
        "\n",
        "dt_k"
      ],
      "execution_count": null,
      "outputs": []
    },
    {
      "cell_type": "code",
      "metadata": {
        "id": "ze_o7Ub8F6Ph"
      },
      "source": [
        "# Untuk mengatasi duplikasi data, bisa dilakukan proses menghapus data\n",
        "dt_k_noduplicate = dt_k.drop_duplicates()\n",
        "dt_k_noduplicate"
      ],
      "execution_count": null,
      "outputs": []
    },
    {
      "cell_type": "code",
      "metadata": {
        "id": "Q7DDA8X8eVcH"
      },
      "source": [
        "jumlah_baris_duplikat = dt_k_noduplicate.duplicated().sum()\n",
        "print(\"Jumlah baris yang memiliki data sama: {} baris\\n\".format(jumlah_baris_duplikat))"
      ],
      "execution_count": null,
      "outputs": []
    },
    {
      "cell_type": "code",
      "metadata": {
        "id": "UH9M8zqIGISu"
      },
      "source": [
        "dt_k_noduplicate.info()"
      ],
      "execution_count": null,
      "outputs": []
    },
    {
      "cell_type": "markdown",
      "metadata": {
        "id": "P51YqquT_Yd-"
      },
      "source": [
        "### Categorical Encoding"
      ]
    },
    {
      "cell_type": "markdown",
      "source": [
        "Categorical Encoding merupakan proses mengganti suatu nilai kategorikal dengan suatu nilai numerik.\n",
        "\n",
        "Dalam python, agar data bisa digunakan dalam proses machine learning, data-data yang berupa objek perlu diubah menjadi integer terlebih dahulu."
      ],
      "metadata": {
        "id": "TT_ke4OOCWN1"
      }
    },
    {
      "cell_type": "markdown",
      "metadata": {
        "id": "UO1FMdzZ_znV"
      },
      "source": [
        "#### Menggunakan Label Encoding\n",
        "\n",
        "**Label Encoding** memetakan tiap kategori ke dalam angka numerik, mulai dari 1, 2, 3, dst."
      ]
    },
    {
      "cell_type": "markdown",
      "source": [
        ">> Opsi 1 : Mengganti secara manual"
      ],
      "metadata": {
        "id": "2IoqJeZFDjRX"
      }
    },
    {
      "cell_type": "code",
      "metadata": {
        "id": "XTTS4IFLgSEr"
      },
      "source": [
        "# Replace\n",
        "dt_k_noduplicate.replace({'jurusan' : {'IPA': 1 , 'IPS': 2}}, inplace=True)\n",
        "# dt_k_noduplicates = dt_k_noduplicate.replace({'jurusan' : {'IPA': 1 , 'IPS': 2}}) # if you're assigning it to a variable, ignore the \"inplace=True\" argument\n",
        "dt_k_noduplicate"
      ],
      "execution_count": null,
      "outputs": []
    },
    {
      "cell_type": "code",
      "source": [
        "dt_k_noduplicate['jurusan'] = dt_k_noduplicate['jurusan'].astype('category')\n",
        "dt_k_noduplicate['jurusan'] = dt_k_noduplicate['jurusan'].cat.codes\n",
        "dt_k_noduplicate"
      ],
      "metadata": {
        "id": "1Na5Xa4gDdLJ"
      },
      "execution_count": null,
      "outputs": []
    },
    {
      "cell_type": "markdown",
      "metadata": {
        "id": "Hc0vG6QU__zN"
      },
      "source": [
        "#### Menggunakan One Hot Encoding"
      ]
    },
    {
      "cell_type": "markdown",
      "source": [
        "One Hot Encoding dapat menggunakan **pandas.get_dummies** yang memetakan setiap kategori ke dalam nilai 0 dan 1 (berarti True/False)"
      ],
      "metadata": {
        "id": "3gx8UKkmrR2s"
      }
    },
    {
      "cell_type": "code",
      "metadata": {
        "id": "xD1-0zhGJOvW"
      },
      "source": [
        "pd.get_dummies(dt_k_noduplicate['ekonomi'])"
      ],
      "execution_count": null,
      "outputs": []
    },
    {
      "cell_type": "code",
      "metadata": {
        "id": "Pvkhhl89C63L"
      },
      "source": [
        "# Menggabungkan kolom \"Kurang Mampu\" dan \"Mampu\" ke dataset\n",
        "dt_k_noduplicate = dt_k_noduplicate.join(pd.get_dummies(dt_k_noduplicate['ekonomi']))\n",
        "dt_k_noduplicate"
      ],
      "execution_count": null,
      "outputs": []
    },
    {
      "cell_type": "code",
      "metadata": {
        "id": "DcHUOw4lG4fQ"
      },
      "source": [
        "# menghilangkan kolom \"ekonomi\" karena tidak dipakai\n",
        "dt_k_noduplicate = dt_k_noduplicate.drop(columns = 'ekonomi')\n",
        "dt_k_noduplicate"
      ],
      "execution_count": null,
      "outputs": []
    },
    {
      "cell_type": "code",
      "metadata": {
        "id": "aprcMMTbfdoA"
      },
      "source": [
        "# menghilangkan kolom \"Kurang Mampu\" karena sudah terwakilkan oleh \"Mampu\"\n",
        "dt_k_noduplicate = dt_k_noduplicate.drop(columns = 'Kurang Mampu')\n",
        "dt_k_noduplicate"
      ],
      "execution_count": null,
      "outputs": []
    },
    {
      "cell_type": "markdown",
      "metadata": {
        "id": "sQDZziudDsfT"
      },
      "source": [
        "### Outlier"
      ]
    },
    {
      "cell_type": "code",
      "metadata": {
        "id": "XXUxrBdwgGZ0"
      },
      "source": [
        "# Box Plot\n",
        "dt_k_noduplicate.nilai.plot(kind = \"box\")\n",
        "plt.show()"
      ],
      "execution_count": null,
      "outputs": []
    },
    {
      "cell_type": "markdown",
      "source": [
        "### Menghapus Outlier\n",
        "\n",
        "It is suggested to remove outlier as these **excessively high/low values may not represent actual data** hence introducing **bias** to the model.\n",
        "\n",
        "Other reference:\n",
        "https://medium.com/analytics-vidhya/how-to-remove-outliers-for-machine-learning-24620c4657e8"
      ],
      "metadata": {
        "id": "B8HDhuYjrdwF"
      }
    },
    {
      "cell_type": "markdown",
      "source": [
        "#### 1. Menggunakan z score"
      ],
      "metadata": {
        "id": "gY_Lh0pMrk1K"
      }
    },
    {
      "cell_type": "markdown",
      "source": [
        "Z-score berfungsi untuk mengetahui apakah suatu nilai lebih rendah dari nilai rataan dalam satu dataset dan mengukur seberapa jauh dari rataan"
      ],
      "metadata": {
        "id": "mwBz5iBkE8M7"
      }
    },
    {
      "cell_type": "code",
      "source": [
        "dataset_mean = dt_k_noduplicate.nilai.mean()\n",
        "dataset_stdev = dt_k_noduplicate.nilai.std()\n",
        "print(\"Nilai rata-rata: {0}\\nNilai Standard Deviasi: {1}\".format(dataset_mean, dataset_stdev))"
      ],
      "metadata": {
        "id": "xz0x_OXCFQH9"
      },
      "execution_count": null,
      "outputs": []
    },
    {
      "cell_type": "code",
      "source": [
        "# define our treshold value for z-score\n",
        "threshold = 1 # this means: we only want to tolerate values within ** 1 std. ** from the central value (mean)"
      ],
      "metadata": {
        "id": "blpGRllmG_4D"
      },
      "execution_count": null,
      "outputs": []
    },
    {
      "cell_type": "code",
      "source": [
        "outlier = []\n",
        "for i in dt_k_noduplicate['nilai']:\n",
        "    z = (i-dataset_mean)/dataset_stdev\n",
        "    if abs(z) < threshold:\n",
        "        outlier.append(i)\n",
        "print('Our outlier value in dataset is', outlier)"
      ],
      "metadata": {
        "id": "3hTnhdHdF3Jv"
      },
      "execution_count": null,
      "outputs": []
    },
    {
      "cell_type": "code",
      "metadata": {
        "id": "1RNi2SG7gJbJ"
      },
      "source": [
        "from scipy import stats\n",
        "dt_k_noduplicate['z_score']= stats.zscore(dt_k_noduplicate['nilai'])\n",
        "dt_k_noduplicate"
      ],
      "execution_count": null,
      "outputs": []
    },
    {
      "cell_type": "code",
      "metadata": {
        "id": "ODA_D5AQkWle"
      },
      "source": [
        "dt_k_noduplicate1 = dt_k_noduplicate.copy()\n",
        "dt_k_noduplicate1 = dt_k_noduplicate1.loc[dt_k_noduplicate1['z_score'].abs() < threshold]\n",
        "dt_k_noduplicate1 = dt_k_noduplicate1.reset_index(drop = True)\n",
        "dt_k_noduplicate1"
      ],
      "execution_count": null,
      "outputs": []
    },
    {
      "cell_type": "markdown",
      "source": [
        "#### 2. Inter Quartile Range (IQR)"
      ],
      "metadata": {
        "id": "gwckDXQLrwsC"
      }
    },
    {
      "cell_type": "code",
      "source": [
        "def outlier_treatment(datacolumn):\n",
        "  sorted(datacolumn)\n",
        "  Q1,Q3 = np.percentile(datacolumn , [25,75])\n",
        "  IQR = Q3 - Q1\n",
        "  lower_range = Q1 - (1.5 * IQR)\n",
        "  upper_range = Q3 + (1.5 * IQR)\n",
        "  return lower_range,upper_range"
      ],
      "metadata": {
        "id": "NhvbpQsGMEAx"
      },
      "execution_count": null,
      "outputs": []
    },
    {
      "cell_type": "code",
      "metadata": {
        "id": "SHM6e4I8k-Vz"
      },
      "source": [
        "lowerbound,upperbound = outlier_treatment(dt_k.nilai)\n",
        "print(\"Lowerbound: {0}\\nUpperbound: {1}\".format(lowerbound, upperbound))"
      ],
      "execution_count": null,
      "outputs": []
    },
    {
      "cell_type": "code",
      "metadata": {
        "id": "vdSnAV8qmFmP"
      },
      "source": [
        "# Cek data yang menjadi outlier\n",
        "dt_k[(dt_k.nilai < lowerbound) | (dt_k.nilai > upperbound)]"
      ],
      "execution_count": null,
      "outputs": []
    },
    {
      "cell_type": "code",
      "metadata": {
        "id": "fOoA-BTymdUs"
      },
      "source": [
        "# Menghapus outlier\n",
        "dt_k.drop(dt_k[(dt_k.nilai < lowerbound) | (dt_k.nilai > upperbound)].index , inplace=True)\n",
        "dt_k"
      ],
      "execution_count": null,
      "outputs": []
    },
    {
      "cell_type": "markdown",
      "metadata": {
        "id": "RFytlMregcGn"
      },
      "source": [
        "Sumber :\n",
        "- https://www.kaggle.com/\n",
        "- https://www.datacamp.com/\n",
        "- https://www.analyticsvidhya.com/\n",
        "- https://www.kdnuggets.com/\n",
        "- https://towardsdatascience.com/\n",
        "- https://www.kaggle.com/saurabh00007/iriscsv/version/1"
      ]
    }
  ]
}